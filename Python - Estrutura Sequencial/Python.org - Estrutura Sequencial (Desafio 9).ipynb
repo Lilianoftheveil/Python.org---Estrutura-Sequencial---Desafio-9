{
 "cells": [
  {
   "cell_type": "code",
   "execution_count": null,
   "id": "f704985c",
   "metadata": {},
   "outputs": [],
   "source": [
    "Python - Lista de Exercícios (Estrutura Sequencial) \n",
    "link: https://wiki.python.org.br/EstruturaSequencial"
   ]
  },
  {
   "cell_type": "markdown",
   "id": "7a372871",
   "metadata": {},
   "source": [
    "9) Faça um Programa que peça a temperatura em graus Fahrenheit, transforme e mostre a temperatura em graus Celsius."
   ]
  },
  {
   "cell_type": "code",
   "execution_count": null,
   "id": "291025e7",
   "metadata": {},
   "outputs": [],
   "source": [
    "Obs.: Visando desenvolver o programa de forma mais dinâmica e menos suscetível a erros, adicionei \n",
    "outras estruturas no corpo do código. De modo que apenas números sejam aceitos durante sua execução."
   ]
  },
  {
   "cell_type": "code",
   "execution_count": null,
   "id": "c9792dda",
   "metadata": {},
   "outputs": [],
   "source": [
    "while True:\n",
    "  x = input(\"Temperatura em graus Fahrenheit: \")\n",
    "  try:\n",
    "    float(x)\n",
    "    y = round((float(x) - 32) / 1.8, 2)\n",
    "    print(f\"{x}°F é o equivalente a {y}°C.\")\n",
    "    break\n",
    "  except:\n",
    "    print(\"Por favor, digite apenas números.\")\n",
    "    continue"
   ]
  }
 ],
 "metadata": {
  "kernelspec": {
   "display_name": "Python 3 (ipykernel)",
   "language": "python",
   "name": "python3"
  },
  "language_info": {
   "codemirror_mode": {
    "name": "ipython",
    "version": 3
   },
   "file_extension": ".py",
   "mimetype": "text/x-python",
   "name": "python",
   "nbconvert_exporter": "python",
   "pygments_lexer": "ipython3",
   "version": "3.8.10"
  }
 },
 "nbformat": 4,
 "nbformat_minor": 5
}
